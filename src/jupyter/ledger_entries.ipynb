{
 "cells": [
  {
   "cell_type": "code",
   "execution_count": null,
   "id": "0",
   "metadata": {},
   "outputs": [],
   "source": [
    "%load_ext autoreload\n",
    "%autoreload 2\n"
   ]
  },
  {
   "cell_type": "code",
   "execution_count": null,
   "id": "1",
   "metadata": {},
   "outputs": [],
   "source": [
    "import os\n",
    "from v4vapp_backend_v2.config.setup import InternalConfig\n",
    "from v4vapp_backend_v2.database.db import get_mongodb_client_defaults\n",
    "from v4vapp_backend_v2.actions.tracked_models import TrackedBaseModel\n",
    "\n",
    "target_dir = \"/Users/bol/Documents/dev/v4vapp/v4vapp-backend-v2/\"\n",
    "os.chdir(target_dir)\n",
    "print(\"Current working directory:\", os.getcwd())\n"
   ]
  },
  {
   "cell_type": "code",
   "execution_count": null,
   "id": "2",
   "metadata": {},
   "outputs": [],
   "source": [
    "from v4vapp_backend_v2.accounting.balance_sheet import (\n",
    "    generate_balance_sheet_pandas,\n",
    "    get_account_balance_printout,\n",
    "    get_ledger_dataframe,\n",
    "    list_all_accounts,\n",
    ")\n",
    "\n",
    "\n",
    "CONFIG = InternalConfig(config_filename=\"devhive.config.yaml\").config\n",
    "\n",
    "db_client = get_mongodb_client_defaults()\n",
    "\n",
    "TrackedBaseModel.db_client = db_client\n",
    "ledger_df = await get_ledger_dataframe()\n",
    "balance_sheet_dict = await generate_balance_sheet_pandas(df=ledger_df)\n"
   ]
  },
  {
   "cell_type": "code",
   "execution_count": null,
   "id": "3",
   "metadata": {},
   "outputs": [],
   "source": [
    "all_accounts = await list_all_accounts()\n",
    "print(\"All accounts:\", all_accounts)\n",
    "balances = {}\n",
    "for account in all_accounts:\n",
    "    print(f\"Account: {account}\")\n",
    "    balances[str(account)] = await get_account_balance_printout(\n",
    "        account=account, full_history=True, df=ledger_df\n",
    "    )\n",
    "for account, balance in balances.items():\n",
    "    print(f\"Balance for {account}:\")\n",
    "    print(balance)\n"
   ]
  },
  {
   "cell_type": "code",
   "execution_count": null,
   "id": "4",
   "metadata": {},
   "outputs": [],
   "source": []
  },
  {
   "cell_type": "code",
   "execution_count": null,
   "id": "5",
   "metadata": {},
   "outputs": [],
   "source": [
    "print(balance_sheet_dict)"
   ]
  },
  {
   "cell_type": "code",
   "execution_count": null,
   "id": "6",
   "metadata": {},
   "outputs": [],
   "source": [
    "print(ledger_df)\n"
   ]
  },
  {
   "cell_type": "code",
   "execution_count": null,
   "id": "7",
   "metadata": {},
   "outputs": [],
   "source": [
    "from v4vapp_backend_v2.accounting.balance_sheet import (\n",
    "    balance_sheet_all_currencies_printout,\n",
    "    balance_sheet_printout,\n",
    ")\n",
    "\n",
    "\n",
    "balance_sheet_currencies_str = balance_sheet_all_currencies_printout(balance_sheet_dict)\n",
    "balance_sheet_str = balance_sheet_printout(balance_sheet_dict)\n",
    "print(balance_sheet_currencies_str)\n",
    "print(balance_sheet_str)"
   ]
  },
  {
   "cell_type": "code",
   "execution_count": null,
   "id": "8",
   "metadata": {},
   "outputs": [],
   "source": []
  },
  {
   "cell_type": "code",
   "execution_count": null,
   "id": "9",
   "metadata": {},
   "outputs": [],
   "source": [
    "from v4vapp_backend_v2.accounting.balance_sheet import get_ledger_entries\n",
    "\n",
    "print(\"Ledger entries:\")\n",
    "ledger_entries = await get_ledger_entries()\n",
    "for ledger_entry in ledger_entries:\n",
    "    print(ledger_entry)\n",
    "\n",
    "print(\"Balance sheet (currencies):\")\n",
    "print(balance_sheet_currencies_str)\n",
    "print(\"Balance sheet:\")\n",
    "print(balance_sheet_str)\n",
    "\n",
    "for account, balance in balances.items():\n",
    "    print(f\"Balance for {account}:\")\n",
    "    print(balance)"
   ]
  },
  {
   "cell_type": "code",
   "execution_count": null,
   "id": "10",
   "metadata": {},
   "outputs": [],
   "source": [
    "print(balances[\"Customer Liability Hive (Liability) - Sub: v4vapp-test\"])\n"
   ]
  },
  {
   "cell_type": "code",
   "execution_count": null,
   "id": "11",
   "metadata": {},
   "outputs": [],
   "source": [
    "print(balances[\"Fee Income Lightning (Revenue) - Sub: umbrel\"])"
   ]
  },
  {
   "cell_type": "code",
   "execution_count": null,
   "id": "12",
   "metadata": {},
   "outputs": [],
   "source": [
    "print(balances[\"Customer Deposits Hive (Asset) - Sub: devser.v4vapp\"])"
   ]
  },
  {
   "cell_type": "code",
   "execution_count": null,
   "id": "13",
   "metadata": {},
   "outputs": [],
   "source": [
    "print(balances[\"Treasury Lightning (Asset) - Sub: umbrel\"])\n"
   ]
  },
  {
   "cell_type": "code",
   "execution_count": null,
   "id": "14",
   "metadata": {},
   "outputs": [],
   "source": [
    "print(balances[\"Treasury Lightning (Asset) - Sub: umbrel\"])\n"
   ]
  },
  {
   "cell_type": "code",
   "execution_count": null,
   "id": "15",
   "metadata": {},
   "outputs": [],
   "source": [
    "print(balance_sheet_dict)\n"
   ]
  }
 ],
 "metadata": {
  "kernelspec": {
   "display_name": "v4vapp-backend-v2",
   "language": "python",
   "name": "python3"
  },
  "language_info": {
   "codemirror_mode": {
    "name": "ipython",
    "version": 3
   },
   "file_extension": ".py",
   "mimetype": "text/x-python",
   "name": "python",
   "nbconvert_exporter": "python",
   "pygments_lexer": "ipython3",
   "version": "3.12.7"
  }
 },
 "nbformat": 4,
 "nbformat_minor": 5
}
