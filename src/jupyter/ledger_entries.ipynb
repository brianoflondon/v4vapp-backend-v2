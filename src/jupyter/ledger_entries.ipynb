{
 "cells": [
  {
   "cell_type": "code",
   "execution_count": 45,
   "id": "d64dcedf",
   "metadata": {},
   "outputs": [
    {
     "name": "stdout",
     "output_type": "stream",
     "text": [
      "Current working directory: /Users/bol/Documents/dev/v4vapp/v4vapp-backend-v2\n"
     ]
    }
   ],
   "source": [
    "# Change working directory to /src\n",
    "import os\n",
    "from v4vapp_backend_v2.database.db import MongoDBClient\n",
    "from v4vapp_backend_v2.config.setup import InternalConfig\n",
    "import os\n",
    "import pandas as pd\n",
    "import matplotlib.pyplot as plt\n",
    "from v4vapp_backend_v2.database.db import get_mongodb_client_defaults\n",
    "from v4vapp_backend_v2.actions.tracked_models import TrackedBaseModel\n",
    "\n",
    "import os\n",
    "\n",
    "target_dir = \"/Users/bol/Documents/dev/v4vapp/v4vapp-backend-v2/\"\n",
    "os.chdir(target_dir)\n",
    "print(\"Current working directory:\", os.getcwd())\n"
   ]
  },
  {
   "cell_type": "code",
   "execution_count": 46,
   "id": "904dc1b2",
   "metadata": {},
   "outputs": [
    {
     "name": "stderr",
     "output_type": "stream",
     "text": [
      "\u001b[34m2025-06-08T15:06:28+0300.757 INFO     db                        161 : 📁 backend Initializing MongoDBClient local_connection\u001b[0m\n",
      "\u001b[34m2025-06-08T15:06:28+0300.763 INFO     db                        557 : 📁 backend Attempting to connect to MongoDB for the first time or after failure.\u001b[0m\n"
     ]
    },
    {
     "name": "stdout",
     "output_type": "stream",
     "text": [
      "All accounts: [Customer Deposits Hive (Asset) - Sub: devser.v4vapp, Escrow Hive (Asset) - Sub: devser.v4vapp, Treasury Hive (Asset) - Sub: devtre.v4vapp, Treasury Lightning (Asset) - Sub: umbrel, Customer Liability Hive (Liability) - Sub: v4vapp-test, Owner Loan Payable (funding) (Liability) - Sub: v4vapp.dhf, Fee Income Lightning (Revenue) - Sub: umbrel]\n",
      "Account: Customer Deposits Hive (Asset) - Sub: devser.v4vapp\n",
      "Account: Escrow Hive (Asset) - Sub: devser.v4vapp\n",
      "Account: Treasury Hive (Asset) - Sub: devtre.v4vapp\n",
      "Account: Treasury Lightning (Asset) - Sub: umbrel\n",
      "Account: Customer Liability Hive (Liability) - Sub: v4vapp-test\n",
      "Account: Owner Loan Payable (funding) (Liability) - Sub: v4vapp.dhf\n",
      "Account: Fee Income Lightning (Revenue) - Sub: umbrel\n"
     ]
    }
   ],
   "source": [
    "from v4vapp_backend_v2.accounting.balance_sheet import (\n",
    "    get_account_balance,\n",
    "    get_account_balance_printout,\n",
    "    get_ledger_dataframe,\n",
    "    get_ledger_entries,\n",
    "    list_all_accounts,\n",
    ")\n",
    "from v4vapp_backend_v2.accounting.account_type import Account\n",
    "\n",
    "\n",
    "CONFIG = InternalConfig(config_filename=\"devhive.config.yaml\").config\n",
    "\n",
    "db_client = get_mongodb_client_defaults()\n",
    "\n",
    "TrackedBaseModel.db_client = db_client\n",
    "ledger_df = await get_ledger_dataframe()\n",
    "\n",
    "\n",
    "all_accounts = await list_all_accounts()\n",
    "print(\"All accounts:\", all_accounts)\n",
    "balances = {}\n",
    "for account in all_accounts:\n",
    "    print(f\"Account: {account}\")\n",
    "    balances[str(account)] = await get_account_balance_printout(\n",
    "        account=account, full_history=True, df=ledger_df\n",
    "    )\n"
   ]
  },
  {
   "cell_type": "code",
   "execution_count": 47,
   "id": "55c9a7fe",
   "metadata": {},
   "outputs": [
    {
     "name": "stdout",
     "output_type": "stream",
     "text": [
      "==============================================================================================================\n",
      "Balance for Customer Liability Hive (sub: v4vapp-test) Liability\n",
      "--------------------------------------------------------------------------------------------------------------\n",
      "\n",
      "Unit: HIVE\n",
      "----------\n",
      "Timestamp            Description                                          Debit       Credit      Balance\n",
      "----------\n",
      "2025-05-12 10:12:39  Testing ingress of Hive from external                 0.00        10.00        10.00\n",
      "2025-05-12 10:51:42  Test refund                                          10.00         0.00         0.00\n",
      "2025-05-15 12:37:39  lnbc23430n1p5zth7rpp5405cclr553qslfjt0lm0g...         0.00        10.00        10.00\n",
      "2025-05-27 11:56:45  Lightning invoice expired - 95911346_a5f15...        10.00         0.00         0.00\n",
      "2025-05-28 10:30:12  lnbc22330n1p5rdetwpp58e0zfweu6hrh56hl8xgu2...         0.00        14.00        14.00\n",
      "2025-05-28 10:30:58  Outgoing Lightning Payment 9.397 HIVE 2,23...         9.40         0.00         4.60\n",
      "2025-05-28 10:30:58  Fee for Lightning Payment 2,233 sats                  0.45         0.00         4.15\n",
      "2025-06-05 09:59:15  Lightning 2,233 sats has been paid, return...         4.15         0.00        -0.00\n",
      "2025-06-08 08:08:36  brianoflondon@walletofsatoshi.com                     0.00         5.00         5.00\n",
      "2025-06-08 08:36:25  Outgoing Lightning Payment 4.689 HIVE 1,11...         4.69         0.00         0.31\n",
      "2025-06-08 08:36:25  Fee for Lightning Payment 1,113 sats                  0.31         0.00        -0.00\n",
      "2025-06-08 10:39:51  Server to Customer withdrawal: 0.001 HIVE ...         0.00         0.00        -0.00\n",
      "--------------------------------------------------------------------------------------------------------------\n",
      "Converted               -0.00 HIVE        -0.00 HBD        -0.00 USD           -0 SATS             -716 msats\n",
      "--------------------------------------------------------------------------------------------------------------\n",
      "Final Balance           -0.00   HIVE\n",
      "\n",
      "Unit: HBD\n",
      "----------\n",
      "Timestamp            Description                                          Debit       Credit      Balance\n",
      "----------\n",
      "2025-05-12 11:38:15  Another test with a private memo                      0.00        10.00        10.00\n",
      "2025-05-14 16:01:24  Refund to clear all debts to v4vapp-test             10.00         0.00         0.00\n",
      "--------------------------------------------------------------------------------------------------------------\n",
      "Total USD:               -0.00\n",
      "Total SATS:                  0\n",
      "Balance for Customer Liability Hive (sub: v4vapp-test) Liability\n",
      "==============================================================================================================\n",
      "\n"
     ]
    }
   ],
   "source": [
    "print(balances[\"Customer Liability Hive (Liability) - Sub: v4vapp-test\"])\n"
   ]
  },
  {
   "cell_type": "code",
   "execution_count": 48,
   "id": "f3a9014b",
   "metadata": {},
   "outputs": [
    {
     "name": "stdout",
     "output_type": "stream",
     "text": [
      "==============================================================================================================\n",
      "Balance for Fee Income Lightning (sub: umbrel) Revenue\n",
      "--------------------------------------------------------------------------------------------------------------\n",
      "\n",
      "Unit: SATS\n",
      "----------\n",
      "Timestamp            Description                                          Debit       Credit      Balance\n",
      "----------\n",
      "2025-05-28 10:30:58  Fee for Lightning Payment 2,233 sats                     0          106          106\n",
      "2025-06-08 08:36:25  Fee for Lightning Payment 1,113 sats                     0           69          175\n",
      "--------------------------------------------------------------------------------------------------------------\n",
      "Converted                0.78 HIVE         0.18 HBD         0.18 USD          175 SATS          174,631 msats\n",
      "--------------------------------------------------------------------------------------------------------------\n",
      "Final Balance             175   SATS\n",
      "--------------------------------------------------------------------------------------------------------------\n",
      "Total USD:                0.18\n",
      "Total SATS:                175\n",
      "Balance for Fee Income Lightning (sub: umbrel) Revenue\n",
      "==============================================================================================================\n",
      "\n"
     ]
    }
   ],
   "source": [
    "print(balances[\"Fee Income Lightning (Revenue) - Sub: umbrel\"])"
   ]
  },
  {
   "cell_type": "code",
   "execution_count": 49,
   "id": "743fe9ae",
   "metadata": {},
   "outputs": [
    {
     "name": "stdout",
     "output_type": "stream",
     "text": [
      "==============================================================================================================\n",
      "Balance for Customer Deposits Hive (sub: devser.v4vapp) Asset\n",
      "--------------------------------------------------------------------------------------------------------------\n",
      "\n",
      "Unit: HIVE\n",
      "----------\n",
      "Timestamp            Description                                          Debit       Credit      Balance\n",
      "----------\n",
      "2025-05-11 17:53:45  Send opening balance to Live Server                  50.00         0.00        50.00\n",
      "2025-05-12 08:16:12  Reset for checks                                      0.00        50.00         0.00\n",
      "2025-05-12 10:12:39  Testing ingress of Hive from external                10.00         0.00        10.00\n",
      "2025-05-12 10:51:42  Test refund                                           0.00        10.00         0.00\n",
      "2025-05-14 17:02:00  6.738  HBD -->     25.052 HIVE honeybot fi...        25.05         0.00        25.05\n",
      "2025-05-14 17:02:00  1.345  HBD -->      5.000 HIVE voltix fill...         5.00         0.00        30.05\n",
      "2025-05-14 17:02:00  1.999  HBD -->      7.436 HIVE quicktrades...         7.44         0.00        37.49\n",
      "2025-05-14 17:02:00  1.345  HBD -->      5.000 HIVE onlyhive fi...         5.00         0.00        42.49\n",
      "2025-05-14 17:02:00  3.573  HBD -->     13.254 HIVE droida fill...        13.25         0.00        55.74\n",
      "2025-05-15 08:11:54  35.000 HIVE for      9.376  HBD devser.v4v...         0.00        35.00        20.74\n",
      "2025-05-15 09:45:39  Testing auto re-balance back to server and...        50.00         0.00        70.74\n",
      "2025-05-15 09:54:51  9.423  HBD -->     35.471 HIVE konvik-hbd ...        35.47         0.00       106.21\n",
      "2025-05-15 12:37:39  lnbc23430n1p5zth7rpp5405cclr553qslfjt0lm0g...        10.00         0.00       116.21\n",
      "2025-05-26 10:09:30                                                        0.00        16.21       100.00\n",
      "2025-05-27 11:56:45  Lightning invoice expired - 95911346_a5f15...         0.00        10.00        90.00\n",
      "2025-05-28 10:30:12  lnbc22330n1p5rdetwpp58e0zfweu6hrh56hl8xgu2...        14.00         0.00       104.00\n",
      "2025-05-28 10:30:58  Conversion of 9.846 HIVE to Lightning 2,34...         0.00         9.85        94.15\n",
      "2025-06-05 09:59:15  Lightning 2,233 sats has been paid, return...         0.00         4.15        90.00\n",
      "2025-06-08 08:08:36  brianoflondon@walletofsatoshi.com                     5.00         0.00        95.00\n",
      "2025-06-08 08:36:25  Conversion of 4.999 HIVE to Lightning 1,18...         0.00         5.00        90.00\n",
      "2025-06-08 10:39:51  Server to Customer withdrawal: 0.001 HIVE ...         0.00         0.00        90.00\n",
      "--------------------------------------------------------------------------------------------------------------\n",
      "Converted               90.00 HIVE        21.15 HBD        21.15 USD            0 SATS       20,070,000 msats\n",
      "--------------------------------------------------------------------------------------------------------------\n",
      "Final Balance           90.00   HIVE\n",
      "\n",
      "Unit: HBD\n",
      "----------\n",
      "Timestamp            Description                                          Debit       Credit      Balance\n",
      "----------\n",
      "2025-05-12 06:31:03  Send opening balance to Live Server HBD              40.00         0.00        40.00\n",
      "2025-05-12 07:52:21  Test send back from server to treasury                0.00        10.00        30.00\n",
      "2025-05-12 08:16:39  Reset for tests hbd                                   0.00        30.00         0.00\n",
      "2025-05-12 11:38:15  Another test with a private memo                     10.00         0.00        10.00\n",
      "2025-05-14 16:01:24  Refund to clear all debts to v4vapp-test              0.00        10.00         0.00\n",
      "2025-05-14 16:47:00  More funds treasury to server                        25.00         0.00        25.00\n",
      "2025-05-14 17:02:00  15.000  HBD for     55.643 HIVE devser.v4v...         0.00        15.00        10.00\n",
      "2025-05-15 08:11:54  7.428 HIVE -->      2.000  HBD quicktrades...         2.00         0.00        12.00\n",
      "2025-05-15 08:11:54  27.572 HIVE -->      7.423  HBD konvik-hbd...         7.42         0.00        19.42\n",
      "2025-05-15 09:54:54  9.423  HBD for     35.471 HIVE devser.v4va...         0.00         9.42        10.00\n",
      "--------------------------------------------------------------------------------------------------------------\n",
      "Converted               37.64 HIVE         9.96 HBD         9.96 USD        9,778 SATS        9,777,945 msats\n",
      "--------------------------------------------------------------------------------------------------------------\n",
      "Final Balance           10.00    HBD\n",
      "--------------------------------------------------------------------------------------------------------------\n",
      "Total USD:               31.11\n",
      "Total SATS:              9,778\n",
      "Balance for Customer Deposits Hive (sub: devser.v4vapp) Asset\n",
      "==============================================================================================================\n",
      "\n"
     ]
    }
   ],
   "source": [
    "print(balances[\"Customer Deposits Hive (Asset) - Sub: devser.v4vapp\"])"
   ]
  }
 ],
 "metadata": {
  "kernelspec": {
   "display_name": ".venv",
   "language": "python",
   "name": "python3"
  },
  "language_info": {
   "codemirror_mode": {
    "name": "ipython",
    "version": 3
   },
   "file_extension": ".py",
   "mimetype": "text/x-python",
   "name": "python",
   "nbconvert_exporter": "python",
   "pygments_lexer": "ipython3",
   "version": "3.12.7"
  }
 },
 "nbformat": 4,
 "nbformat_minor": 5
}
