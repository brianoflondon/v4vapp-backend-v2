{
 "cells": [
  {
   "cell_type": "code",
   "execution_count": null,
   "id": "0",
   "metadata": {},
   "outputs": [],
   "source": [
    "%load_ext autoreload\n",
    "%autoreload 2\n"
   ]
  },
  {
   "cell_type": "code",
   "execution_count": null,
   "id": "1",
   "metadata": {},
   "outputs": [],
   "source": [
    "import os\n",
    "from v4vapp_backend_v2.config.setup import InternalConfig\n",
    "from v4vapp_backend_v2.database.db import get_mongodb_client_defaults\n",
    "from v4vapp_backend_v2.actions.tracked_models import TrackedBaseModel\n",
    "\n",
    "target_dir = \"/Users/bol/Documents/dev/v4vapp/v4vapp-backend-v2/\"\n",
    "os.chdir(target_dir)\n",
    "print(\"Current working directory:\", os.getcwd())\n"
   ]
  },
  {
   "cell_type": "code",
   "execution_count": null,
   "id": "2",
   "metadata": {},
   "outputs": [],
   "source": [
    "from v4vapp_backend_v2.accounting.balance_sheet import (\n",
    "    generate_balance_sheet_pandas,\n",
    "    get_account_balance_printout,\n",
    "    get_ledger_dataframe,\n",
    "    list_all_accounts,\n",
    ")\n",
    "\n",
    "\n",
    "CONFIG = InternalConfig(config_filename=\"devhive.config.yaml\").config\n",
    "\n",
    "db_client = get_mongodb_client_defaults()\n",
    "\n",
    "TrackedBaseModel.db_client = db_client\n",
    "ledger_df = await get_ledger_dataframe()\n",
    "balance_sheet_dict = await generate_balance_sheet_pandas(df=ledger_df)\n"
   ]
  },
  {
   "cell_type": "code",
   "execution_count": null,
   "id": "3",
   "metadata": {},
   "outputs": [],
   "source": [
    "all_accounts = await list_all_accounts()\n",
    "print(\"All accounts:\", all_accounts)\n",
    "balances = {}\n",
    "for account in all_accounts:\n",
    "    print(f\"Account: {account}\")\n",
    "    balances[str(account)] = await get_account_balance_printout(\n",
    "        account=account, full_history=True, df=ledger_df\n",
    "    )\n",
    "for account, balance in balances.items():\n",
    "    print(f\"Balance for {account}:\")\n",
    "    print(balance[0])\n"
   ]
  },
  {
   "cell_type": "code",
   "execution_count": null,
   "id": "4",
   "metadata": {},
   "outputs": [],
   "source": [
    "from v4vapp_backend_v2.actions.hive_to_lightning import get_verified_hive_client\n",
    "from nectar.account import Account\n",
    "from nectar.amount import Amount\n",
    "from v4vapp_backend_v2.accounting.account_type import LedgerAccount\n",
    "from pprint import pprint\n",
    "\n",
    "from v4vapp_backend_v2.helpers.crypto_prices import Currency\n",
    "from math import isclose\n",
    "\n",
    "print(\"Checking server and treasury accounts vs Hive balances...\")\n",
    "hive_client, server_name = await get_verified_hive_client()\n",
    "server_account = Account(server_name, blockchain_instance=hive_client)\n",
    "treasury_account = Account(\"devtre.v4vapp\", blockchain_instance=hive_client)\n",
    "\n",
    "# Server account balances\n",
    "server_ledger_account = LedgerAccount.from_string(\n",
    "    \"Customer Deposits Hive (Asset) - Sub: devser.v4vapp\"\n",
    ")\n",
    "server_summary_text, server_summary = await get_account_balance_printout(\n",
    "    account=server_ledger_account,\n",
    "    full_history=True,\n",
    ")\n",
    "print(\"Server Account Balance Summary:\")\n",
    "\n",
    "pprint(\"Server Account \" + str(server_account.balances.get(\"available\", [])))\n",
    "if Currency.HIVE.value in server_summary.unit_summaries:\n",
    "    print(\"HIVE Balance:\", server_account.balances.get(\"available\", Amount(0, \"HIVE\"))[0])\n",
    "    pprint(server_summary.unit_summaries[Currency.HIVE.value].final_balance)\n",
    "    if isclose(\n",
    "        server_summary.unit_summaries[Currency.HIVE.value].final_balance,\n",
    "        server_account.balances.get(\"available\", Amount(0, \"HIVE\"))[0],\n",
    "        abs_tol=0.002,  # absolute tolerance for 3 decimal places\n",
    "    ):\n",
    "        print(\"Balance match for HIVE Server Account\")\n",
    "    else:\n",
    "        print(\"Balance mismatch for HIVE Server Account\")\n",
    "if Currency.HBD.value in server_summary.unit_summaries:\n",
    "    print(\"HBD Balance:\", server_account.balances.get(\"available\", Amount(0, \"HBD\"))[1])\n",
    "    pprint(server_summary.unit_summaries[Currency.HBD.value].final_balance)\n",
    "    if isclose(\n",
    "        server_summary.unit_summaries[Currency.HBD.value].final_balance,\n",
    "        server_account.balances.get(\"available\", Amount(0, \"HBD\"))[1],\n",
    "        abs_tol=0.002,  # absolute tolerance for 3 decimal places\n",
    "    ):\n",
    "        print(\"Balance match for HBD Server Account\")\n",
    "    else:\n",
    "        print(\"Balance mismatch for HBD Server Account\")\n",
    "\n",
    "\n",
    "treasury_ledger_account = LedgerAccount.from_string(\"Treasury Hive (Asset) - Sub: devtre.v4vapp\")\n",
    "pprint(\"Treasury Account \" + str(treasury_account.balances.get(\"available\", [])))\n",
    "treasury_summary_text, treasury_summary = await get_account_balance_printout(\n",
    "    account=treasury_ledger_account,\n",
    "    full_history=True,\n",
    ")\n",
    "print(\"Treasury Account Balance Summary:\")\n",
    "if Currency.HIVE.value in treasury_summary.unit_summaries:\n",
    "    print(\"HIVE Balance:\", treasury_account.balances.get(\"available\", Amount(0, \"HIVE\"))[0])\n",
    "    pprint(treasury_summary.unit_summaries[Currency.HIVE.value].final_balance)\n",
    "    if isclose(\n",
    "        treasury_summary.unit_summaries[Currency.HIVE.value].final_balance,\n",
    "        treasury_account.balances.get(\"available\", Amount(0, \"HIVE\"))[0],\n",
    "        abs_tol=0.002,  # absolute tolerance for 3 decimal places\n",
    "    ):\n",
    "        print(\"Balance match for HIVE Treasury Account\")\n",
    "    else:\n",
    "        print(\"Balance mismatch for HIVE Treasury Account\")\n",
    "if Currency.HBD.value in treasury_summary.unit_summaries:\n",
    "    print(\"HBD Balance:\", treasury_account.balances.get(\"available\", Amount(0, \"HBD\"))[1])\n",
    "    pprint(treasury_summary.unit_summaries[Currency.HBD.value].final_balance)\n",
    "    if isclose(\n",
    "        treasury_summary.unit_summaries[Currency.HBD.value].final_balance,\n",
    "        treasury_account.balances.get(\"available\", Amount(0, \"HBD\"))[1],\n",
    "        abs_tol=0.002,  # absolute tolerance for 3 decimal places\n",
    "    ):\n",
    "        print(\"Balance match for HBD Treasury Account\")\n",
    "    else:\n",
    "        print(\"Balance mismatch for HBD Treasury Account\")"
   ]
  },
  {
   "cell_type": "code",
   "execution_count": null,
   "id": "5",
   "metadata": {},
   "outputs": [],
   "source": [
    "print(balance_sheet_dict)"
   ]
  },
  {
   "cell_type": "code",
   "execution_count": null,
   "id": "6",
   "metadata": {},
   "outputs": [],
   "source": [
    "print(ledger_df)\n"
   ]
  },
  {
   "cell_type": "code",
   "execution_count": null,
   "id": "7",
   "metadata": {},
   "outputs": [],
   "source": [
    "from datetime import datetime, timezone\n",
    "from v4vapp_backend_v2.accounting.balance_sheet import get_ledger_entries\n",
    "from v4vapp_backend_v2.accounting.balance_sheet import (\n",
    "    balance_sheet_all_currencies_printout,\n",
    "    balance_sheet_printout,\n",
    ")\n",
    "\n",
    "\"\"\"\n",
    "All Balances sheets and all_accounts\n",
    "\"\"\"\n",
    "balance_sheet_currencies_str = balance_sheet_all_currencies_printout(balance_sheet_dict)\n",
    "balance_sheet_str = balance_sheet_printout(balance_sheet_dict)\n",
    "\n",
    "\n",
    "print(\"Ledger entries:\")\n",
    "ledger_entries = await get_ledger_entries(\n",
    "    collection_name=\"ledger\",\n",
    "    filter_by_account=None,\n",
    "    as_of_date=datetime.now(tz=timezone.utc),\n",
    ")\n",
    "for ledger_entry in ledger_entries:\n",
    "    print(ledger_entry)\n",
    "\n",
    "print(\"Balance sheet (currencies):\")\n",
    "print(balance_sheet_currencies_str)\n",
    "print(\"Balance sheet:\")\n",
    "print(balance_sheet_str)\n",
    "\n",
    "for account, (balance, summary) in balances.items():\n",
    "    print(f\"Balance for {account}:\")\n",
    "    print(balance)"
   ]
  },
  {
   "cell_type": "code",
   "execution_count": null,
   "id": "8",
   "metadata": {},
   "outputs": [],
   "source": [
    "print(balances[\"Customer Liability Hive (Liability) - Sub: v4vapp-test\"][0])\n"
   ]
  },
  {
   "cell_type": "code",
   "execution_count": null,
   "id": "9",
   "metadata": {},
   "outputs": [],
   "source": [
    "print(balances[\"Customer Deposits Hive (Asset) - Sub: devser.v4vapp\"][0])"
   ]
  },
  {
   "cell_type": "code",
   "execution_count": null,
   "id": "10",
   "metadata": {},
   "outputs": [],
   "source": [
    "print(balances[\"Fee Income Lightning (Revenue) - Sub: umbrel\"][0])"
   ]
  },
  {
   "cell_type": "code",
   "execution_count": null,
   "id": "11",
   "metadata": {},
   "outputs": [],
   "source": [
    "print(balances[\"Treasury Lightning (Asset) - Sub: umbrel\"])\n"
   ]
  },
  {
   "cell_type": "code",
   "execution_count": null,
   "id": "12",
   "metadata": {},
   "outputs": [],
   "source": [
    "account = LedgerAccount.from_string(\"Converted Hive Offset (Asset) - Sub: devser.v4vapp\")\n",
    "\n",
    "(printout_str, data) = await get_account_balance_printout(account=account, full_history=True)\n",
    "print(printout_str)"
   ]
  },
  {
   "cell_type": "code",
   "execution_count": null,
   "id": "13",
   "metadata": {},
   "outputs": [],
   "source": [
    "ledger_df = await get_ledger_dataframe()\n",
    "print(\"Ledger DataFrame:\")\n",
    "print(ledger_df.head())"
   ]
  }
 ],
 "metadata": {
  "kernelspec": {
   "display_name": "v4vapp-backend-v2",
   "language": "python",
   "name": "python3"
  },
  "language_info": {
   "codemirror_mode": {
    "name": "ipython",
    "version": 3
   },
   "file_extension": ".py",
   "mimetype": "text/x-python",
   "name": "python",
   "nbconvert_exporter": "python",
   "pygments_lexer": "ipython3",
   "version": "3.12.7"
  }
 },
 "nbformat": 4,
 "nbformat_minor": 5
}
