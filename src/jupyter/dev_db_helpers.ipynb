{
 "cells": [
  {
   "cell_type": "code",
   "execution_count": null,
   "id": "0",
   "metadata": {},
   "outputs": [],
   "source": [
    "%load_ext autoreload\n",
    "%autoreload 2\n",
    "import os\n",
    "from v4vapp_backend_v2.config.setup import InternalConfig\n",
    "from v4vapp_backend_v2.database.db import get_mongodb_client_defaults\n",
    "\n",
    "target_dir = \"/Users/bol/Documents/dev/v4vapp/v4vapp-backend-v2/\"\n",
    "os.chdir(target_dir)\n",
    "print(\"Current working directory:\", os.getcwd())\n",
    "\n",
    "CONFIG = InternalConfig(config_filename=\"devhive.config.yaml\").config\n",
    "\n",
    "db_client = get_mongodb_client_defaults()"
   ]
  },
  {
   "cell_type": "code",
   "execution_count": null,
   "id": "1",
   "metadata": {},
   "outputs": [],
   "source": [
    "### This empties the server account and sends balances back to test account\n",
    "\n",
    "from v4vapp_backend_v2.actions.hive_to_lightning import get_verified_hive_client\n",
    "from nectar.account import Account\n",
    "from nectar.amount import Amount\n",
    "from v4vapp_backend_v2.hive.hive_extras import send_transfer\n",
    "from pprint import pprint\n",
    "\n",
    "hive_client, server_name = await get_verified_hive_client()\n",
    "server_account = Account(server_name, blockchain_instance=hive_client)\n",
    "pprint(server_account.balances.get(\"available\", []))\n",
    "for amount in server_account.balances.get(\"available\", []):\n",
    "    print(f\"Server account {server_name} has {amount}\")\n",
    "    if amount.amount > 0:\n",
    "        trx = await send_transfer(\n",
    "            to_account=\"v4vapp-test\",\n",
    "            from_account=server_name,\n",
    "            hive_client=hive_client,\n",
    "            amount=amount,\n",
    "            memo=\"Clearing balance transfer from v4vapp backend to v4vapp-test account\",\n",
    "        )\n",
    "        pprint(f\"Transfer transaction: {trx}\")\n"
   ]
  },
  {
   "cell_type": "code",
   "execution_count": null,
   "id": "2",
   "metadata": {},
   "outputs": [],
   "source": [
    "async with db_client as client:\n",
    "    db = client.get_db()\n",
    "    await db[\"hive_ops\"].delete_many({})\n",
    "    await db[\"ledger\"].delete_many({})\n"
   ]
  }
 ],
 "metadata": {
  "kernelspec": {
   "display_name": "v4vapp-backend-v2",
   "language": "python",
   "name": "python3"
  },
  "language_info": {
   "codemirror_mode": {
    "name": "ipython",
    "version": 3
   },
   "file_extension": ".py",
   "mimetype": "text/x-python",
   "name": "python",
   "nbconvert_exporter": "python",
   "pygments_lexer": "ipython3",
   "version": "3.12.7"
  }
 },
 "nbformat": 4,
 "nbformat_minor": 5
}
