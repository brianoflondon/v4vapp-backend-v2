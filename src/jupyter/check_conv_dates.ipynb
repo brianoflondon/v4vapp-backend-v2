{
 "cells": [
  {
   "cell_type": "code",
   "execution_count": 1,
   "id": "ba684a6c",
   "metadata": {},
   "outputs": [
    {
     "name": "stderr",
     "output_type": "stream",
     "text": [
      "\u001b[34m2025-05-27T08:43:22+0300.472 INFO     db                        160 : 📁 backend Initializing MongoDBClient local_connection\u001b[0m\n"
     ]
    },
    {
     "name": "stdout",
     "output_type": "stream",
     "text": [
      "Current working directory: /Users/bol/Documents/dev/v4vapp/v4vapp-backend-v2/src/jupyter\n",
      "Current working directory: /Users/bol/Documents/dev/v4vapp/v4vapp-backend-v2\n",
      "Config file found: config/config.yaml\n"
     ]
    }
   ],
   "source": [
    "from v4vapp_backend_v2.database.db import MongoDBClient\n",
    "from v4vapp_backend_v2.config.setup import InternalConfig\n",
    "from pymongo import AsyncMongoClient\n",
    "import os\n",
    "import pandas as pd\n",
    "import matplotlib.pyplot as plt\n",
    "\n",
    "from v4vapp_backend_v2.actions.tracked_models import TrackedBaseModel\n",
    "from v4vapp_backend_v2.actions.tracked_all import tracked_any_filter\n",
    "\n",
    "print(\"Current working directory:\", os.getcwd())\n",
    "\n",
    "\n",
    "project_root = \"/Users/bol/Documents/dev/v4vapp/v4vapp-backend-v2\"\n",
    "if os.getcwd() != project_root:\n",
    "    os.chdir(project_root)\n",
    "print(\"Current working directory:\", os.getcwd())\n",
    "\n",
    "CONFIG = InternalConfig(config_filename=\"config.yaml\").config\n",
    "\n",
    "old_client = MongoDBClient(\n",
    "    db_conn=CONFIG.dbs_config.default_connection,\n",
    "    db_name=CONFIG.dbs_config.default_name,\n",
    "    db_user=CONFIG.dbs_config.default_user,\n",
    ")\n",
    "\n",
    "client = AsyncMongoClient(old_client.uri, tz_aware=True)\n",
    "db = client[CONFIG.dbs_config.default_name]\n",
    "rates_collection = db[\"rates\"]\n",
    "hive_ops_collection = db[\"hive_ops\"]\n"
   ]
  },
  {
   "cell_type": "code",
   "execution_count": 13,
   "id": "3c094e3a",
   "metadata": {},
   "outputs": [
    {
     "name": "stderr",
     "output_type": "stream",
     "text": [
      "\u001b[34m2025-05-27T09:19:21+0300.209 INFO     crypto_prices             340 : Quotes fetched successfully in 2.1136 seconds\u001b[0m\n"
     ]
    },
    {
     "name": "stdout",
     "output_type": "stream",
     "text": [
      "'2:05:23.232000'\n",
      "'2:05:14.232000'\n",
      "'2:02:01.400000'\n",
      "'1:08:21.511000'\n",
      "'1:08:03.511000'\n",
      "'1:04:48.511000'\n",
      "'0:44:14.707000'\n",
      "'0:44:05.707000'\n",
      "'0:35:11.707000'\n",
      "'0:21:59.982000'\n",
      "'0:08:43.377000'\n",
      "'0:08:25.377000'\n",
      "'0:00:42.293000'\n",
      "'17:10:26.140000'\n",
      "'16:08:07.976000'\n",
      "'14:35:04.812000'\n",
      "'14:34:55.812000'\n",
      "'14:31:34.812000'\n",
      "'14:26:04.812000'\n",
      "'14:25:55.812000'\n",
      "'14:25:34.812000'\n",
      "'14:23:48.163000'\n",
      "'14:23:15.163000'\n",
      "'13:30:42.070000'\n",
      "'13:25:51.070000'\n",
      "'13:17:12.070000'\n",
      "'13:16:42.070000'\n",
      "'0:01:48.917000'\n",
      "'0:01:54.917000'\n",
      "'0:02:24.917000'\n",
      "'0:00:02.088000'\n",
      "'0:00:57.912000'\n",
      "'0:00:57.912000'\n",
      "'0:01:09.912000'\n",
      "'0:01:30.912000'\n",
      "'0:01:27.095000'\n",
      "'0:02:00.095000'\n",
      "'0:01:59.814000'\n",
      "'0:02:17.814000'\n",
      "'0:00:01.689000'\n",
      "'0:01:07.311000'\n",
      "'0:00:06.554000'\n",
      "'0:00:17.446000'\n",
      "'0:00:32.446000'\n",
      "'0:01:26.446000'\n",
      "'0:00:03.703000'\n",
      "'0:00:08.297000'\n",
      "'0:00:32.297000'\n",
      "'0:01:47.297000'\n",
      "'0:00:04.264000'\n",
      "'0:00:16.736000'\n",
      "'0:00:04.056000'\n",
      "'0:00:00.363000'\n",
      "'0:00:21.363000'\n",
      "'0:00:21.363000'\n",
      "'0:00:03.971000'\n",
      "'0:00:05.029000'\n",
      "'0:00:35.029000'\n",
      "'0:00:38.029000'\n",
      "'0:01:53.029000'\n",
      "'0:02:02.029000'\n",
      "'0:02:32.029000'\n",
      "'0:00:04.079000'\n",
      "'0:00:03.721000'\n",
      "'0:00:08.279000'\n",
      "'0:00:05.134000'\n",
      "'0:00:02.846000'\n",
      "'0:00:03.712000'\n",
      "'0:00:08.288000'\n",
      "'0:00:11.526000'\n",
      "'0:00:03.869000'\n"
     ]
    }
   ],
   "source": [
    "from pprint import pprint\n",
    "\n",
    "\n",
    "await TrackedBaseModel.update_quote()\n",
    "cursor = hive_ops_collection.find(\n",
    "    {\n",
    "        \"conv\": {\"$exists\": True},\n",
    "    },\n",
    "    {\"_id\": 0},\n",
    ")\n",
    "async for doc in cursor:\n",
    "    try:\n",
    "        op = tracked_any_filter(doc)\n",
    "        pprint(f\"{abs(op.conv.fetch_date - op.timestamp)}\")\n",
    "    except ValueError:\n",
    "        pass"
   ]
  }
 ],
 "metadata": {
  "kernelspec": {
   "display_name": ".venv",
   "language": "python",
   "name": "python3"
  },
  "language_info": {
   "codemirror_mode": {
    "name": "ipython",
    "version": 3
   },
   "file_extension": ".py",
   "mimetype": "text/x-python",
   "name": "python",
   "nbconvert_exporter": "python",
   "pygments_lexer": "ipython3",
   "version": "3.12.7"
  }
 },
 "nbformat": 4,
 "nbformat_minor": 5
}
