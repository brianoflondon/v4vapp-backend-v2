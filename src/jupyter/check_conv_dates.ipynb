{
 "cells": [
  {
   "cell_type": "code",
   "execution_count": null,
   "id": "0",
   "metadata": {},
   "outputs": [],
   "source": [
    "from v4vapp_backend_v2.database.db import MongoDBClient\n",
    "from v4vapp_backend_v2.config.setup import InternalConfig\n",
    "from pymongo import AsyncMongoClient\n",
    "import os\n",
    "import pandas as pd\n",
    "import matplotlib.pyplot as plt\n",
    "\n",
    "from v4vapp_backend_v2.actions.tracked_models import TrackedBaseModel\n",
    "from v4vapp_backend_v2.actions.process_tracked_events import tracked_any_filter\n",
    "\n",
    "print(\"Current working directory:\", os.getcwd())\n",
    "\n",
    "\n",
    "project_root = \"/Users/bol/Documents/dev/v4vapp/v4vapp-backend-v2\"\n",
    "if os.getcwd() != project_root:\n",
    "    os.chdir(project_root)\n",
    "print(\"Current working directory:\", os.getcwd())\n",
    "\n",
    "CONFIG = InternalConfig(config_filename=\"config.yaml\").config\n",
    "\n",
    "old_client = MongoDBClient(\n",
    "    db_conn=CONFIG.dbs_config.default_connection,\n",
    "    db_name=CONFIG.dbs_config.default_name,\n",
    "    db_user=CONFIG.dbs_config.default_user,\n",
    ")\n",
    "\n",
    "client = AsyncMongoClient(old_client.uri, tz_aware=True)\n",
    "db = client[CONFIG.dbs_config.default_name]\n",
    "rates_collection = db[\"rates\"]\n",
    "hive_ops_collection = db[\"hive_ops\"]\n"
   ]
  },
  {
   "cell_type": "code",
   "execution_count": null,
   "id": "1",
   "metadata": {},
   "outputs": [],
   "source": [
    "from pprint import pprint\n",
    "\n",
    "\n",
    "await TrackedBaseModel.update_quote()\n",
    "cursor = hive_ops_collection.find(\n",
    "    {\n",
    "        \"conv\": {\"$exists\": True},\n",
    "    },\n",
    "    {\"_id\": 0},\n",
    ")\n",
    "async for doc in cursor:\n",
    "    try:\n",
    "        op = tracked_any_filter(doc)\n",
    "        if not op.conv and op.conv.fetch_date is None:\n",
    "            continue\n",
    "        pprint(f\"{abs(op.conv.fetch_date - op.timestamp)}\")\n",
    "    except ValueError:\n",
    "        pass"
   ]
  }
 ],
 "metadata": {
  "kernelspec": {
   "display_name": ".venv",
   "language": "python",
   "name": "python3"
  },
  "language_info": {
   "codemirror_mode": {
    "name": "ipython",
    "version": 3
   },
   "file_extension": ".py",
   "mimetype": "text/x-python",
   "name": "python",
   "nbconvert_exporter": "python",
   "pygments_lexer": "ipython3",
   "version": "3.12.7"
  }
 },
 "nbformat": 4,
 "nbformat_minor": 5
}
